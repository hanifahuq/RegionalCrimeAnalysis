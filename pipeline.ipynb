{
 "cells": [
  {
   "cell_type": "markdown",
   "metadata": {},
   "source": [
    "# Python Pipeline\n",
    "\n",
    "## Description\n",
    "### Aims:\n",
    "\n",
    "### Deliverables:"
   ]
  },
  {
   "cell_type": "markdown",
   "metadata": {},
   "source": [
    "## Code\n",
    "\n",
    "### Importing Libraries"
   ]
  },
  {
   "cell_type": "code",
   "execution_count": 1,
   "metadata": {},
   "outputs": [],
   "source": [
    "import os\n",
    "import logging\n",
    "import pandas as pd\n",
    "import numpy as np"
   ]
  },
  {
   "cell_type": "markdown",
   "metadata": {},
   "source": [
    "### Working directory and configure logging"
   ]
  },
  {
   "cell_type": "code",
   "execution_count": null,
   "metadata": {},
   "outputs": [],
   "source": [
    "# Constants\n",
    "LOCAL_DATA_PATH = './'\n",
    "LOG_FILE = os.path.join(LOCAL_DATA_PATH, 'pipeline.log')\n",
    "RAW_STREET = os.path.join(LOCAL_DATA_PATH, '2022-01-cheshire-street.csv')\n",
    "RAW_OUTCOMES = os.path.join(LOCAL_DATA_PATH, '2022-01-cheshire-outcomes.csv')\n",
    "STAGED_STREET = os.path.join(LOCAL_DATA_PATH, 'staged_cheshire_street.csv')\n",
    "STAGED_OUTCOMES = os.path.join(LOCAL_DATA_PATH, 'staged_cheshire_outcomes.csv')\n",
    "PRIMARY_DATA_FILE = os.path.join(LOCAL_DATA_PATH, 'primary_cheshire.csv')\n",
    "REPORTING_DATA_FILE = os.path.join(LOCAL_DATA_PATH, 'reporting_cheshire.csv')\n",
    "\n",
    "\n",
    "# Configure logging\n",
    "logging.basicConfig(\n",
    "    filename=LOG_FILE,\n",
    "    filemode='a',\n",
    "    format='%(asctime)s %(levelname)s:%(message)s',\n",
    "    datefmt='%Y-%m-%d %H:%M:%S',\n",
    "    level=logging.INFO\n",
    ")"
   ]
  },
  {
   "cell_type": "markdown",
   "metadata": {},
   "source": [
    "### Staging Layer"
   ]
  },
  {
   "cell_type": "markdown",
   "metadata": {},
   "source": [
    "### Primary Layer"
   ]
  },
  {
   "cell_type": "markdown",
   "metadata": {},
   "source": [
    "### Reporting Layer"
   ]
  }
 ],
 "metadata": {
  "kernelspec": {
   "display_name": "base",
   "language": "python",
   "name": "python3"
  },
  "language_info": {
   "codemirror_mode": {
    "name": "ipython",
    "version": 3
   },
   "file_extension": ".py",
   "mimetype": "text/x-python",
   "name": "python",
   "nbconvert_exporter": "python",
   "pygments_lexer": "ipython3",
   "version": "3.12.4"
  }
 },
 "nbformat": 4,
 "nbformat_minor": 2
}
